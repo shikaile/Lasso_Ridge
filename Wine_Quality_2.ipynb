{
 "cells": [
  {
   "cell_type": "code",
   "execution_count": 19,
   "id": "96680f59-0137-46e5-9568-774496f68d5a",
   "metadata": {},
   "outputs": [
    {
     "name": "stderr",
     "output_type": "stream",
     "text": [
      "C:\\Users\\hq4090\\.conda\\envs\\data\\Lib\\site-packages\\sklearn\\linear_model\\_coordinate_descent.py:697: ConvergenceWarning: Objective did not converge. You might want to increase the number of iterations, check the scale of the features or consider increasing regularisation. Duality gap: 4.241e+02, tolerance: 1.186e-01 Linear regression models with null weight for the l1 regularization term are more efficiently fitted using one of the solvers implemented in sklearn.linear_model.Ridge/RidgeCV instead.\n",
      "  model = cd_fast.enet_coordinate_descent(\n"
     ]
    }
   ],
   "source": [
    "import numpy as np\n",
    "import pandas as pd\n",
    "\n",
    "import sklearn.model_selection as skm\n",
    "from sklearn.model_selection import train_test_split\n",
    "import sklearn.linear_model as skl\n",
    "from sklearn.preprocessing import StandardScaler\n",
    "from sklearn.metrics import mean_squared_error, mean_absolute_error, r2_score\n",
    "\n",
    "from ISLP.models import ModelSpec as MS\n",
    "\n",
    "Wine_Quality2 = pd.read_csv('data/winequality-red.csv', sep=\";\")\n",
    "\n",
    "#Columns to drop\n",
    "\n",
    "#Standardize \n",
    "scaler = StandardScaler()\n",
    "numerical_feature = Wine_Quality2.select_dtypes(include=['float64','int64','bool']).columns\n",
    "Wine_Quality2[numerical_feature]= scaler.fit_transform(Wine_Quality2[numerical_feature])\n",
    "\n",
    "#Categorize \n",
    "categorical_feature = Wine_Quality2.select_dtypes(include=['object']).columns\n",
    "Wine_Quality2 = pd.get_dummies(Wine_Quality2, columns=categorical_feature,drop_first=True,dtype=float)\n",
    "\n",
    "#Select Independent and Dependent variables \n",
    "X = Wine_Quality2.drop('quality', axis=1)\n",
    "y = Wine_Quality2['quality']\n",
    "\n",
    "X_train, X_test, y_train, y_test = train_test_split(X, y)\n",
    "\n",
    "# Select Ridge Regression l1_ration=0\n",
    "elastic_net = skl.ElasticNet(alpha=0.5, l1_ratio=0)\n",
    "\n",
    "#Fit model\n",
    "elastic_net.fit(X_train, y_train)\n",
    "\n",
    "#Make preditions\n",
    "y_pred = elastic_net.predict(X_test)\n",
    "\n",
    "#Declare desired measurments \n",
    "mse_ = mean_squared_error(y_test,y_pred)\n",
    "rmse_ = np.sqrt(mse_)\n",
    "mae_ =mean_absolute_error(y_test,y_pred)\n",
    "r2_ = r2_score(y_test,y_pred)\n",
    "mape_ = np.mean(np.abs((y_test - y_pred) / y_test))*100\n",
    "\n",
    "#obtain Coefficients \n",
    "coefficients = pd.DataFrame({'Feature': X.columns, 'Coefficient': elastic_net.coef_})\n",
    "\n",
    "#Obtain desired results\n",
    "results =[{\n",
    "    \"dataset\":\"Wine_Quality2\",\n",
    "    \"R^2\":r2_,\n",
    "    \"MSE\":mse_,\n",
    "    \"RMSE\":rmse_,\n",
    "    \"MAE\":mae_,\n",
    "    \"MAPE\":mape_}]"
   ]
  },
  {
   "cell_type": "code",
   "execution_count": 20,
   "id": "86f85feb-c410-430c-9507-f32c7f3f5f14",
   "metadata": {},
   "outputs": [],
   "source": [
    "df = pd.DataFrame(results)"
   ]
  },
  {
   "cell_type": "code",
   "execution_count": 21,
   "id": "5cfbb5f4-75e3-4773-92a9-546bdf1f58f1",
   "metadata": {},
   "outputs": [],
   "source": [
    "with pd.ExcelWriter('Ridge Regression.xlsx', engine='openpyxl', mode='a',if_sheet_exists=\"overlay\") as writer:\n",
    "    df.to_excel(writer, sheet_name='results', index=False,startrow=writer.sheets['results'].max_row, header=None)"
   ]
  },
  {
   "cell_type": "markdown",
   "id": "c79b7a58-ad28-41c0-a807-2e64ba244dd4",
   "metadata": {},
   "source": [
    "# Lasso Regression"
   ]
  },
  {
   "cell_type": "code",
   "execution_count": 22,
   "id": "658f5d94-b0da-4b31-b1c8-d29c8c6095b1",
   "metadata": {},
   "outputs": [],
   "source": [
    "\n",
    "# Select Lasso Regression l1_ration=1\n",
    "elastic_net = skl.ElasticNetCV(n_alphas=100, l1_ratio=1)\n",
    "\n",
    "#Fit model\n",
    "elastic_net.fit(X_train, y_train)\n",
    "\n",
    "#Make preditions\n",
    "y_pred = elastic_net.predict(X_test)\n",
    "\n",
    "#Declare desired measurments \n",
    "mse_ = mean_squared_error(y_test,y_pred)\n",
    "rmse_ = np.sqrt(mse_)\n",
    "mae_ =mean_absolute_error(y_test,y_pred)\n",
    "r2_ = r2_score(y_test,y_pred)\n",
    "mape_ = np.mean(np.abs((y_test - y_pred) / y_test))*100\n",
    "\n",
    "#obtain Coefficients \n",
    "coefficients = pd.DataFrame({'Feature': X.columns, 'Coefficient': elastic_net.coef_})\n",
    "\n",
    "#Obtain dropped(0-coefficient) features\n",
    "dropped_features = coefficients['Coefficient'].value_counts().get(0, 0) \n",
    "features = (len(X.columns))\n",
    "\n",
    "#Obtain desired results\n",
    "results =[{\n",
    "    \"dataset\":\"Wine_Quality2\",\n",
    "    \"R^2\":r2_,\n",
    "    \"MSE\":mse_,\n",
    "    \"RMSE\":rmse_,\n",
    "    \"MAE\":mae_,\n",
    "    \"MAPE\":mape_,\n",
    "    \"Features\":features,\n",
    "    \"Dropped Features\":dropped_features}]"
   ]
  },
  {
   "cell_type": "code",
   "execution_count": 23,
   "id": "6c86a3d2-88ce-410e-a445-9152e88a1d04",
   "metadata": {},
   "outputs": [],
   "source": [
    "df = pd.DataFrame(results)"
   ]
  },
  {
   "cell_type": "code",
   "execution_count": 24,
   "id": "cf56bdba-34e2-4019-b559-bb56d6c0464c",
   "metadata": {},
   "outputs": [],
   "source": [
    "with pd.ExcelWriter('Lasso Regression.xlsx', engine='openpyxl', mode='a',if_sheet_exists=\"overlay\") as writer:\n",
    "    df.to_excel(writer, sheet_name='results', index=False,startrow=writer.sheets['results'].max_row, header=None)"
   ]
  },
  {
   "cell_type": "code",
   "execution_count": null,
   "id": "7952fbec-a8c0-445a-ae35-10b31b92dc3d",
   "metadata": {},
   "outputs": [],
   "source": [
    "elastic_net"
   ]
  }
 ],
 "metadata": {
  "kernelspec": {
   "display_name": "Python 3 (ipykernel)",
   "language": "python",
   "name": "python3"
  },
  "language_info": {
   "codemirror_mode": {
    "name": "ipython",
    "version": 3
   },
   "file_extension": ".py",
   "mimetype": "text/x-python",
   "name": "python",
   "nbconvert_exporter": "python",
   "pygments_lexer": "ipython3",
   "version": "3.12.5"
  }
 },
 "nbformat": 4,
 "nbformat_minor": 5
}
