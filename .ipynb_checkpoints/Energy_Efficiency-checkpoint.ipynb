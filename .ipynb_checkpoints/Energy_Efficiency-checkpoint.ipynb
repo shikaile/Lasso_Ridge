{
 "cells": [
  {
   "cell_type": "code",
   "execution_count": 1,
   "id": "96680f59-0137-46e5-9568-774496f68d5a",
   "metadata": {},
   "outputs": [
    {
     "name": "stderr",
     "output_type": "stream",
     "text": [
      "C:\\Users\\hq4090\\.conda\\envs\\data\\Lib\\site-packages\\sklearn\\linear_model\\_coordinate_descent.py:697: ConvergenceWarning: Objective did not converge. You might want to increase the number of iterations, check the scale of the features or consider increasing regularisation. Duality gap: 1.635e+03, tolerance: 4.067e-01 Linear regression models with null weight for the l1 regularization term are more efficiently fitted using one of the solvers implemented in sklearn.linear_model.Ridge/RidgeCV instead.\n",
      "  model = cd_fast.enet_coordinate_descent(\n"
     ]
    }
   ],
   "source": [
    "import numpy as np\n",
    "import pandas as pd\n",
    "\n",
    "import sklearn.model_selection as skm\n",
    "from sklearn.model_selection import train_test_split\n",
    "import sklearn.linear_model as skl\n",
    "from sklearn.preprocessing import StandardScaler\n",
    "from sklearn.metrics import mean_squared_error, mean_absolute_error, r2_score\n",
    "\n",
    "from ISLP.models import ModelSpec as MS\n",
    "\n",
    "Rent = pd.read_csv('data/House_Rent_Dataset.csv')\n",
    "\n",
    "#Columns to drop\n",
    "Rent.drop(columns=['Posted On',], axis=1, inplace=True)\n",
    "\n",
    "#Standardize \n",
    "scaler = StandardScaler()\n",
    "numerical_feature = Rent.select_dtypes(include=['float64','int64','bool']).columns\n",
    "Rent[numerical_feature]= scaler.fit_transform(Rent[numerical_feature])\n",
    "\n",
    "#Categorize \n",
    "categorical_feature = Rent.select_dtypes(include=['object']).columns\n",
    "Rent = pd.get_dummies(Rent, columns=categorical_feature,drop_first=True,dtype=float)\n",
    "\n",
    "#Select Independent and Dependent variables \n",
    "X = Rent.drop('Rent', axis=1)\n",
    "y = Rent['Rent']\n",
    "\n",
    "X_train, X_test, y_train, y_test = train_test_split(X, y)\n",
    "\n",
    "# Select Ridge Regression l1_ration=0\n",
    "elastic_net = skl.ElasticNet(alpha=0.5, l1_ratio=0)\n",
    "\n",
    "#Fit model\n",
    "elastic_net.fit(X_train, y_train)\n",
    "\n",
    "#Make preditions\n",
    "y_pred = elastic_net.predict(X_test)\n",
    "\n",
    "#Declare desired measurments \n",
    "mse_ = mean_squared_error(y_test,y_pred)\n",
    "rmse_ = np.sqrt(mse_)\n",
    "mae_ =mean_absolute_error(y_test,y_pred)\n",
    "r2_ = r2_score(y_test,y_pred)\n",
    "mape_ = np.mean(np.abs((y_test - y_pred) / y_test))*100\n",
    "\n",
    "#obtain Coefficients \n",
    "coefficients = pd.DataFrame({'Feature': X.columns, 'Coefficient': elastic_net.coef_})\n",
    "\n",
    "#Obtain desired results\n",
    "results =[{\n",
    "    \"dataset\":\"Rent\",\n",
    "    \"R^2\":r2_,\n",
    "    \"MSE\":mse_,\n",
    "    \"RMSE\":rmse_,\n",
    "    \"MAE\":mae_,\n",
    "    \"MAPE\":mape_}]"
   ]
  },
  {
   "cell_type": "code",
   "execution_count": 2,
   "id": "ad62bfbc-c179-4de1-8d60-51963bf99726",
   "metadata": {},
   "outputs": [
    {
     "data": {
      "text/plain": [
       "[{'dataset': 'Rent',\n",
       "  'R^2': 0.42249487524624474,\n",
       "  'MSE': np.float64(0.3300214021840689),\n",
       "  'RMSE': np.float64(0.5744748925619543),\n",
       "  'MAE': np.float64(0.26293189182270466),\n",
       "  'MAPE': np.float64(8529.857871060069)}]"
      ]
     },
     "execution_count": 2,
     "metadata": {},
     "output_type": "execute_result"
    }
   ],
   "source": [
    "results"
   ]
  },
  {
   "cell_type": "code",
   "execution_count": null,
   "id": "b3872222-6c65-44e4-81ef-9ace5172a6e8",
   "metadata": {},
   "outputs": [],
   "source": []
  }
 ],
 "metadata": {
  "kernelspec": {
   "display_name": "Python 3 (ipykernel)",
   "language": "python",
   "name": "python3"
  },
  "language_info": {
   "codemirror_mode": {
    "name": "ipython",
    "version": 3
   },
   "file_extension": ".py",
   "mimetype": "text/x-python",
   "name": "python",
   "nbconvert_exporter": "python",
   "pygments_lexer": "ipython3",
   "version": "3.12.5"
  }
 },
 "nbformat": 4,
 "nbformat_minor": 5
}
