{
 "cells": [
  {
   "cell_type": "code",
   "execution_count": 7,
   "id": "96680f59-0137-46e5-9568-774496f68d5a",
   "metadata": {},
   "outputs": [
    {
     "name": "stderr",
     "output_type": "stream",
     "text": [
      "C:\\Users\\hq4090\\.conda\\envs\\data\\Lib\\site-packages\\sklearn\\linear_model\\_coordinate_descent.py:697: ConvergenceWarning: Objective did not converge. You might want to increase the number of iterations, check the scale of the features or consider increasing regularisation. Duality gap: 8.565e+01, tolerance: 3.198e-02 Linear regression models with null weight for the l1 regularization term are more efficiently fitted using one of the solvers implemented in sklearn.linear_model.Ridge/RidgeCV instead.\n",
      "  model = cd_fast.enet_coordinate_descent(\n"
     ]
    }
   ],
   "source": [
    "import numpy as np\n",
    "import pandas as pd\n",
    "\n",
    "import sklearn.model_selection as skm\n",
    "from sklearn.model_selection import train_test_split\n",
    "import sklearn.linear_model as skl\n",
    "from sklearn.preprocessing import StandardScaler\n",
    "from sklearn.metrics import mean_squared_error, mean_absolute_error, r2_score\n",
    "\n",
    "from ISLP.models import ModelSpec as MS\n",
    "\n",
    "Real_Estate = pd.read_excel('data/Real estate valuation data set.xlsx')\n",
    "\n",
    "#Columns to drop\n",
    "\n",
    "#Standardize \n",
    "scaler = StandardScaler()\n",
    "numerical_feature = Real_Estate.select_dtypes(include=['float64','int64','bool']).columns\n",
    "Real_Estate[numerical_feature]= scaler.fit_transform(Real_Estate[numerical_feature])\n",
    "\n",
    "#Categorize \n",
    "categorical_feature = Real_Estate.select_dtypes(include=['object']).columns\n",
    "Real_Estate = pd.get_dummies(Real_Estate, columns=categorical_feature,drop_first=True,dtype=float)\n",
    "\n",
    "#Select Independent and Dependent variables \n",
    "X = Real_Estate.drop('Y house price of unit area', axis=1)\n",
    "y = Real_Estate['Y house price of unit area']\n",
    "\n",
    "X_train, X_test, y_train, y_test = train_test_split(X, y)\n",
    "\n",
    "# Select Ridge Regression l1_ration=0\n",
    "elastic_net = skl.ElasticNet(alpha=0.5, l1_ratio=0)\n",
    "\n",
    "#Fit model\n",
    "elastic_net.fit(X_train, y_train)\n",
    "\n",
    "#Make preditions\n",
    "y_pred = elastic_net.predict(X_test)\n",
    "\n",
    "#Declare desired measurments \n",
    "mse_ = mean_squared_error(y_test,y_pred)\n",
    "rmse_ = np.sqrt(mse_)\n",
    "mae_ =mean_absolute_error(y_test,y_pred)\n",
    "r2_ = r2_score(y_test,y_pred)\n",
    "mape_ = np.mean(np.abs((y_test - y_pred) / y_test))*100\n",
    "\n",
    "#obtain Coefficients \n",
    "coefficients = pd.DataFrame({'Feature': X.columns, 'Coefficient': elastic_net.coef_})\n",
    "\n",
    "#Obtain desired results\n",
    "results =[{\n",
    "    \"dataset\":\"Real_Estate\",\n",
    "    \"R^2\":r2_,\n",
    "    \"MSE\":mse_,\n",
    "    \"RMSE\":rmse_,\n",
    "    \"MAE\":mae_,\n",
    "    \"MAPE\":mape_}]"
   ]
  },
  {
   "cell_type": "code",
   "execution_count": 8,
   "id": "f7ee7c46-988a-4507-85e2-a7ffa180ad7e",
   "metadata": {},
   "outputs": [],
   "source": [
    "df = pd.DataFrame(results)"
   ]
  },
  {
   "cell_type": "code",
   "execution_count": 9,
   "id": "bc0a56e1-82e0-400e-b2ff-34231a895a9f",
   "metadata": {},
   "outputs": [],
   "source": [
    "with pd.ExcelWriter('Ridge Regression.xlsx', engine='openpyxl', mode='a',if_sheet_exists=\"overlay\") as writer:\n",
    "    df.to_excel(writer, sheet_name='results', index=False,startrow=writer.sheets['results'].max_row, header=None)"
   ]
  },
  {
   "cell_type": "markdown",
   "id": "da2c13a0-c50a-4168-91d5-6c62923287b3",
   "metadata": {},
   "source": [
    "# Lasso Regression"
   ]
  },
  {
   "cell_type": "code",
   "execution_count": 10,
   "id": "221f1780-83b8-4558-8450-d35bf367b2b6",
   "metadata": {},
   "outputs": [],
   "source": [
    "\n",
    "# Select Lasso Regression l1_ration=1\n",
    "elastic_net = skl.ElasticNetCV(n_alphas=100, l1_ratio=1)\n",
    "\n",
    "#Fit model\n",
    "elastic_net.fit(X_train, y_train)\n",
    "\n",
    "#Make preditions\n",
    "y_pred = elastic_net.predict(X_test)\n",
    "\n",
    "#Declare desired measurments \n",
    "mse_ = mean_squared_error(y_test,y_pred)\n",
    "rmse_ = np.sqrt(mse_)\n",
    "mae_ =mean_absolute_error(y_test,y_pred)\n",
    "r2_ = r2_score(y_test,y_pred)\n",
    "mape_ = np.mean(np.abs((y_test - y_pred) / y_test))*100\n",
    "\n",
    "#obtain Coefficients \n",
    "coefficients = pd.DataFrame({'Feature': X.columns, 'Coefficient': elastic_net.coef_})\n",
    "\n",
    "#Obtain dropped(0-coefficient) features\n",
    "dropped_features = coefficients['Coefficient'].value_counts().get(0, 0) \n",
    "features = (len(X.columns))\n",
    "\n",
    "#Obtain desired results\n",
    "results =[{\n",
    "    \"dataset\":\"Real_Estate\",\n",
    "    \"R^2\":r2_,\n",
    "    \"MSE\":mse_,\n",
    "    \"RMSE\":rmse_,\n",
    "    \"MAE\":mae_,\n",
    "    \"MAPE\":mape_,\n",
    "    \"Features\":features,\n",
    "    \"Dropped Features\":dropped_features}]"
   ]
  },
  {
   "cell_type": "code",
   "execution_count": 11,
   "id": "8863d18b-6fa8-4ab2-99d5-78f0ce824557",
   "metadata": {},
   "outputs": [],
   "source": [
    "df = pd.DataFrame(results)"
   ]
  },
  {
   "cell_type": "code",
   "execution_count": 12,
   "id": "fa5f6b01-8e35-435d-a4fe-1737fa047d8e",
   "metadata": {},
   "outputs": [],
   "source": [
    "with pd.ExcelWriter('Lasso Regression.xlsx', engine='openpyxl', mode='a',if_sheet_exists=\"overlay\") as writer:\n",
    "    df.to_excel(writer, sheet_name='results', index=False,startrow=writer.sheets['results'].max_row, header=None)"
   ]
  },
  {
   "cell_type": "code",
   "execution_count": null,
   "id": "7e25fee0-6ae8-4c01-aaed-2c78a8f3419a",
   "metadata": {},
   "outputs": [],
   "source": []
  }
 ],
 "metadata": {
  "kernelspec": {
   "display_name": "Python 3 (ipykernel)",
   "language": "python",
   "name": "python3"
  },
  "language_info": {
   "codemirror_mode": {
    "name": "ipython",
    "version": 3
   },
   "file_extension": ".py",
   "mimetype": "text/x-python",
   "name": "python",
   "nbconvert_exporter": "python",
   "pygments_lexer": "ipython3",
   "version": "3.12.5"
  }
 },
 "nbformat": 4,
 "nbformat_minor": 5
}
